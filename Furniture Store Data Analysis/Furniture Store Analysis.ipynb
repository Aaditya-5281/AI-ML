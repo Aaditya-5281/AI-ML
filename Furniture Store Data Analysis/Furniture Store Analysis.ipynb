{
 "cells": [
  {
   "cell_type": "code",
   "execution_count": null,
   "id": "ea5ac769",
   "metadata": {},
   "outputs": [],
   "source": [
    "import pandas as pd\n",
    "from datetime import datetime, timedelta"
   ]
  },
  {
   "cell_type": "markdown",
   "id": "f07590b4",
   "metadata": {},
   "source": [
    "### Load the datasets"
   ]
  },
  {
   "cell_type": "code",
   "execution_count": 25,
   "id": "311c1f92",
   "metadata": {},
   "outputs": [],
   "source": [
    "customers = pd.read_csv('customers.csv')\n",
    "products = pd.read_csv('products.csv')\n",
    "ratings = pd.read_csv('ratings.csv')\n",
    "orders = pd.read_csv('orders.csv', parse_dates=['order_date'])\n"
   ]
  },
  {
   "cell_type": "markdown",
   "id": "95384468",
   "metadata": {},
   "source": [
    "### 1. Calculate revenue for each product"
   ]
  },
  {
   "cell_type": "code",
   "execution_count": 26,
   "id": "f71bb3d3",
   "metadata": {},
   "outputs": [],
   "source": [
    "orders['revenue'] = orders['quantity'] * products.set_index('product_id')['price']\n",
    "revenue_by_product = orders.groupby('product_id')['revenue'].sum().sort_values(ascending=False)"
   ]
  },
  {
   "cell_type": "markdown",
   "id": "e32d70b7",
   "metadata": {},
   "source": [
    "### 2. Calculate units sold for each product"
   ]
  },
  {
   "cell_type": "code",
   "execution_count": 27,
   "id": "3073769a",
   "metadata": {},
   "outputs": [],
   "source": [
    "units_sold_by_product = orders.groupby('product_id')['quantity'].sum().sort_values(ascending=False)"
   ]
  },
  {
   "cell_type": "markdown",
   "id": "8c42ae32",
   "metadata": {},
   "source": [
    "### 3. Identify top performing products"
   ]
  },
  {
   "cell_type": "code",
   "execution_count": 28,
   "id": "bb834ddc",
   "metadata": {},
   "outputs": [],
   "source": [
    "top_performing_products_revenue = revenue_by_product.head(10)\n",
    "top_performing_products_units = units_sold_by_product.head(10)"
   ]
  },
  {
   "cell_type": "markdown",
   "id": "14a9a6a0",
   "metadata": {},
   "source": [
    "### 4. Identify top clients for the last month"
   ]
  },
  {
   "cell_type": "code",
   "execution_count": 29,
   "id": "45ac3d32",
   "metadata": {},
   "outputs": [],
   "source": [
    "last_month_start = datetime.now() - timedelta(days=30)\n",
    "last_month_orders = orders[orders['order_date'] >= last_month_start]\n",
    "top_clients_last_month = last_month_orders.groupby('customer_id')['revenue'].sum().sort_values(ascending=False).head(10)"
   ]
  },
  {
   "cell_type": "markdown",
   "id": "6051ca26",
   "metadata": {},
   "source": [
    "### Print results"
   ]
  },
  {
   "cell_type": "code",
   "execution_count": 34,
   "id": "34434e37",
   "metadata": {},
   "outputs": [
    {
     "name": "stdout",
     "output_type": "stream",
     "text": [
      "Top 10 Performing Products (Revenue):\n",
      "product_id\n",
      "27    6105.0\n",
      "35    5392.0\n",
      "46    4998.0\n",
      "42    4200.0\n",
      "1     3380.0\n",
      "14    3060.0\n",
      "23    3060.0\n",
      "31    2876.0\n",
      "29    2776.0\n",
      "36    2579.0\n",
      "Name: revenue, dtype: float64\n",
      "\n",
      "Top 10 Performing Products (Units Sold):\n",
      "product_id\n",
      "39    80\n",
      "6     77\n",
      "49    63\n",
      "2     63\n",
      "38    62\n",
      "8     62\n",
      "30    61\n",
      "46    60\n",
      "1     59\n",
      "22    59\n",
      "Name: quantity, dtype: int64\n",
      "\n",
      "Top 10 Clients for the Last Month:\n",
      "Series([], Name: revenue, dtype: float64)\n"
     ]
    }
   ],
   "source": [
    "print(\"Top 10 Performing Products (Revenue):\")\n",
    "print(top_performing_products_revenue)\n",
    "print(\"\\nTop 10 Performing Products (Units Sold):\")\n",
    "print(top_performing_products_units)\n",
    "print(\"\\nTop 10 Clients for the Last Month:\")\n",
    "print(top_clients_last_month)"
   ]
  },
  {
   "cell_type": "markdown",
   "id": "d7c62447",
   "metadata": {},
   "source": [
    "### Join products with revenue data"
   ]
  },
  {
   "cell_type": "code",
   "execution_count": 32,
   "id": "4ed7de22",
   "metadata": {},
   "outputs": [],
   "source": [
    "\n",
    "top_products_revenue = pd.DataFrame(top_performing_products_revenue).reset_index()\n",
    "top_products_revenue = top_products_revenue.merge(products, on='product_id', how='left')"
   ]
  },
  {
   "cell_type": "markdown",
   "id": "d79ba7b4",
   "metadata": {},
   "source": [
    "### Join products with units sold data"
   ]
  },
  {
   "cell_type": "code",
   "execution_count": 33,
   "id": "26dda91e",
   "metadata": {},
   "outputs": [],
   "source": [
    "\n",
    "top_products_units = pd.DataFrame(top_performing_products_units).reset_index()\n",
    "top_products_units = top_products_units.merge(products, on='product_id', how='left')"
   ]
  },
  {
   "cell_type": "markdown",
   "id": "d562c575",
   "metadata": {},
   "source": [
    "### Print top products with product names"
   ]
  },
  {
   "cell_type": "code",
   "execution_count": 35,
   "id": "c7bee38b",
   "metadata": {},
   "outputs": [
    {
     "name": "stdout",
     "output_type": "stream",
     "text": [
      "\n",
      "Top 10 Products (Revenue) with Product Names:\n",
      "           product_name  revenue\n",
      "0          Ivar Cabinet   6105.0\n",
      "1  Rugveda Coffee Table   5392.0\n",
      "2    Valje Wall Cabinet   4998.0\n",
      "3      Småstad Wardrobe   4200.0\n",
      "4           Ektorp Sofa   3380.0\n",
      "5      Ingolf Bar Stool   3060.0\n",
      "6        Stuva Loft Bed   3060.0\n",
      "7          Nockeby Sofa   2876.0\n",
      "8          Råskog Stool   2776.0\n",
      "9      Gronlid Armchair   2579.0\n",
      "\n",
      "Top 10 Products (Units Sold) with Product Names:\n",
      "              product_name  quantity\n",
      "0    Mackapar Shoe Storage        80\n",
      "1      Brimnes Bed Storage        77\n",
      "2   Söderhamn Sofa Section        63\n",
      "3           Poäng Armchair        63\n",
      "4  Bekant Conference Table        62\n",
      "5    Melltorp Dining Table        62\n",
      "6     Strandmon Wing Chair        61\n",
      "7       Valje Wall Cabinet        60\n",
      "8              Ektorp Sofa        59\n",
      "9     Nordli Chest Drawers        59\n"
     ]
    }
   ],
   "source": [
    "\n",
    "print(\"\\nTop 10 Products (Revenue) with Product Names:\")\n",
    "print(top_products_revenue[['product_name', 'revenue']])\n",
    "print(\"\\nTop 10 Products (Units Sold) with Product Names:\")\n",
    "print(top_products_units[['product_name', 'quantity']])"
   ]
  },
  {
   "cell_type": "markdown",
   "id": "42c61376",
   "metadata": {},
   "source": [
    "### Join customers with top client data"
   ]
  },
  {
   "cell_type": "code",
   "execution_count": 36,
   "id": "c1fc3167",
   "metadata": {},
   "outputs": [],
   "source": [
    "top_clients_last_month = pd.DataFrame(top_clients_last_month).reset_index()\n",
    "top_clients_last_month = top_clients_last_month.merge(customers, on='customer_id', how='left')"
   ]
  },
  {
   "cell_type": "markdown",
   "id": "4f7952b3",
   "metadata": {},
   "source": [
    "### Print top clients with customer names"
   ]
  },
  {
   "cell_type": "code",
   "execution_count": 37,
   "id": "40bfc9c6",
   "metadata": {},
   "outputs": [
    {
     "name": "stdout",
     "output_type": "stream",
     "text": [
      "\n",
      "Top 10 Clients for the Last Month with Customer Names:\n",
      "Empty DataFrame\n",
      "Columns: [name, revenue]\n",
      "Index: []\n"
     ]
    }
   ],
   "source": [
    "print(\"\\nTop 10 Clients for the Last Month with Customer Names:\")\n",
    "print(top_clients_last_month[['name', 'revenue']])"
   ]
  },
  {
   "cell_type": "markdown",
   "id": "91d1e995",
   "metadata": {},
   "source": [
    "### RFM Analysis"
   ]
  },
  {
   "cell_type": "code",
   "execution_count": 38,
   "id": "5e261aae",
   "metadata": {},
   "outputs": [
    {
     "name": "stdout",
     "output_type": "stream",
     "text": [
      "    customer_id  recency  frequency  monetary  recency_score  frequency_score  \\\n",
      "0             1        0         18     12106       0.000000         0.789474   \n",
      "1             2        2          9      4243       0.071429         0.315789   \n",
      "2             3        4         13      7395       0.142857         0.526316   \n",
      "3             4        3         22     10865       0.107143         1.000000   \n",
      "4             5        8         11      7175       0.285714         0.421053   \n",
      "..          ...      ...        ...       ...            ...              ...   \n",
      "95           96        2          9      4458       0.071429         0.315789   \n",
      "96           97        8          4      2678       0.285714         0.052632   \n",
      "97           98        6          7      3699       0.214286         0.210526   \n",
      "98           99        0         10      5503       0.000000         0.368421   \n",
      "99          100       11         12      7327       0.392857         0.473684   \n",
      "\n",
      "    monetary_score  rfm_score         segment  \n",
      "0         1.000000   0.791053       Top Value  \n",
      "1         0.227831   0.228999  Moderate Value  \n",
      "2         0.537366   0.475096       Top Value  \n",
      "3         0.878130   0.796606       Top Value  \n",
      "4         0.515762   0.454736       Top Value  \n",
      "..             ...        ...             ...  \n",
      "95        0.248944   0.241034  Moderate Value  \n",
      "96        0.074143   0.099856       Low Value  \n",
      "97        0.174408   0.190503       Low Value  \n",
      "98        0.351566   0.303551  Moderate Value  \n",
      "99        0.530688   0.494053       Top Value  \n",
      "\n",
      "[100 rows x 9 columns]\n"
     ]
    }
   ],
   "source": [
    "import pandas as pd\n",
    "from datetime import datetime\n",
    "\n",
    "# Load the datasets\n",
    "customers = pd.read_csv('customers.csv')\n",
    "products = pd.read_csv('products.csv')\n",
    "orders = pd.read_csv('orders.csv', parse_dates=['order_date'])\n",
    "\n",
    "# Calculate the maximum order date\n",
    "max_order_date = orders['order_date'].max()\n",
    "\n",
    "# Calculate Recency\n",
    "orders['order_date'] = pd.to_datetime(orders['order_date'])\n",
    "recency = orders.groupby('customer_id').agg({'order_date': lambda x: (max_order_date - x.max()).days})\n",
    "recency.columns = ['recency']\n",
    "\n",
    "# Calculate Frequency\n",
    "frequency = orders.groupby('customer_id')['order_id'].count().reset_index()\n",
    "frequency.columns = ['customer_id', 'frequency']\n",
    "\n",
    "# Calculate Monetary\n",
    "monetary = orders.merge(products[['product_id', 'price']], on='product_id').groupby('customer_id')['price'].sum().reset_index()\n",
    "monetary.columns = ['customer_id', 'monetary']\n",
    "\n",
    "# Combine the three metrics into a single DataFrame\n",
    "rfm = recency.merge(frequency, on='customer_id').merge(monetary, on='customer_id')\n",
    "\n",
    "# Normalize the RFM metrics (optional)\n",
    "from sklearn.preprocessing import MinMaxScaler\n",
    "scaler = MinMaxScaler()\n",
    "rfm['recency_score'] = scaler.fit_transform(rfm[['recency']])\n",
    "rfm['frequency_score'] = scaler.fit_transform(rfm[['frequency']])\n",
    "rfm['monetary_score'] = scaler.fit_transform(rfm[['monetary']])\n",
    "\n",
    "# Calculate the RFM score\n",
    "rfm['rfm_score'] = (rfm['recency_score'] * 0.15) + (rfm['frequency_score'] * 0.28) + (rfm['monetary_score'] * 0.57)\n",
    "\n",
    "# Segment customers based on RFM score\n",
    "rfm['segment'] = pd.qcut(rfm['rfm_score'], q=4, labels=['Low Value', 'Moderate Value', 'High Value', 'Top Value'])\n",
    "\n",
    "# Print the segmented customers\n",
    "print(rfm)"
   ]
  },
  {
   "cell_type": "code",
   "execution_count": 39,
   "id": "f810a497",
   "metadata": {},
   "outputs": [
    {
     "name": "stdout",
     "output_type": "stream",
     "text": [
      "Top Reviewed Items by Customers:\n",
      "               product_name  rating\n",
      "33           Raskog Trolley      16\n",
      "1   Bekant Conference Table      14\n",
      "19          Lack Side Table      13\n",
      "27             Nockeby Sofa      12\n",
      "11         Hektar Work Lamp      11\n",
      "38   Sinnerlig Pendant Lamp      11\n",
      "16             Kivik Chaise      11\n",
      "14             Ivar Cabinet      11\n",
      "25               Micke Desk      11\n",
      "5       Brimnes Bed Storage      11\n",
      "\n",
      "Average Number of Reviews per Customer:\n",
      "           name  num_reviews\n",
      "80  Customer_82          9.0\n",
      "39  Customer_44          9.0\n",
      "73  Customer_75          9.0\n",
      "91  Customer_92          8.0\n",
      "4   Customer_12          8.0\n",
      "..          ...          ...\n",
      "36  Customer_41          1.0\n",
      "11  Customer_19          1.0\n",
      "64  Customer_67          1.0\n",
      "76  Customer_78          1.0\n",
      "69  Customer_71          1.0\n",
      "\n",
      "[99 rows x 2 columns]\n"
     ]
    }
   ],
   "source": [
    "# Join ratings with products to get product names\n",
    "ratings_with_product_names = ratings.merge(products[['product_id', 'product_name']], on='product_id', how='left')\n",
    "\n",
    "# Top reviewed items by customers\n",
    "top_reviewed_items = ratings_with_product_names.groupby('product_name')['rating'].count().reset_index().sort_values('rating', ascending=False)\n",
    "print(\"Top Reviewed Items by Customers:\")\n",
    "print(top_reviewed_items.head(10))\n",
    "\n",
    "# Average number of reviews per customer\n",
    "avg_reviews_per_customer = ratings.groupby('customer_id')['rating'].count().reset_index().rename(columns={'rating': 'num_reviews'})\n",
    "avg_reviews_per_customer = avg_reviews_per_customer.merge(customers, on='customer_id', how='left')\n",
    "avg_reviews_per_customer = avg_reviews_per_customer.groupby('name')['num_reviews'].mean().reset_index().sort_values('num_reviews', ascending=False)\n",
    "print(\"\\nAverage Number of Reviews per Customer:\")\n",
    "print(avg_reviews_per_customer)"
   ]
  },
  {
   "cell_type": "code",
   "execution_count": null,
   "id": "1ef0826e",
   "metadata": {},
   "outputs": [],
   "source": []
  }
 ],
 "metadata": {
  "kernelspec": {
   "display_name": "Python 3 (ipykernel)",
   "language": "python",
   "name": "python3"
  },
  "language_info": {
   "codemirror_mode": {
    "name": "ipython",
    "version": 3
   },
   "file_extension": ".py",
   "mimetype": "text/x-python",
   "name": "python",
   "nbconvert_exporter": "python",
   "pygments_lexer": "ipython3",
   "version": "3.11.7"
  }
 },
 "nbformat": 4,
 "nbformat_minor": 5
}
